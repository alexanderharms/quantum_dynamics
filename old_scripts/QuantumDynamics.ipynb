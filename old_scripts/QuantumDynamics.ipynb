{
 "cells": [
  {
   "cell_type": "markdown",
   "metadata": {},
   "source": [
    "# Crank-Nicholson for Quantum Dynamics\n",
    "\n",
    "Code by Ruben Biesheuvel and Alexander Harms\n",
    "\n",
    "This code uses a Crank-Nicholson method to evaluate the time evaluation of a wave function governed by the SchrÃƒÂ¶dinger equation."
   ]
  },
  {
   "cell_type": "code",
   "execution_count": 1,
   "metadata": {
    "collapsed": true
   },
   "outputs": [],
   "source": [
    ">>> import numpy as np\n",
    ">>> import matplotlib.pyplot as plt\n",
    ">>> import scipy.sparse as sp\n",
    ">>> import matplotlib #sometimes animation does not work, hence also matplotlib is imported\n",
    ">>> from math import pi\n",
    ">>> import math\n",
    ">>> import scipy.sparse.linalg as linalg\n",
    ">>> from sympy.functions.special.delta_functions import Heaviside\n",
    ">>> from matplotlib import animation\n",
    ">>> import matplotlib.cm as cm\n",
    ">>> from IPython.display import Image\n",
    ">>> from matplotlib import rc\n",
    "...\n",
    ">>> # Define font for figures\n",
    "... rc('font', **{'family': 'serif', 'serif': ['Computer Modern']})\n",
    ">>> rc('text', usetex=True)"
   ]
  },
  {
   "cell_type": "code",
   "execution_count": 2,
   "metadata": {
    "collapsed": true
   },
   "outputs": [],
   "source": [
    ">>> #Functions for 1D and 2D animations\n",
    "...\n",
    "... # initialization function: plot the background of each frame\n",
    "... def init_1D():\n",
    "...     \"Initializes the 1d animation with a clean slate\"\n",
    "...     line.set_data([], [])\n",
    "...     V_x.set_data([], [])\n",
    "...     return line, V_x,\n",
    "...\n",
    "...\n",
    ">>> # animation function.  This is called sequentially for every frame.\n",
    "... def animate_1D(i):\n",
    "...     \"sets the frames for the animation in 1d\"\n",
    "...     y = np.absolute(psi_animate[:, i])\n",
    "...     line.set_data(x, y)\n",
    "...     V_x.set_data(x, V)\n",
    "...     return line, V_x,\n",
    "...\n",
    "...\n",
    ">>> def animation_1D():\n",
    "...     \"calls the animation function in 1d\"\n",
    "...     anim = animation.FuncAnimation(fig, animate_1D, init_func=init_1D,\n",
    "...            frames=animation_frames, save_count=anim_count, interval=20, blit=False, repeat=False)\n",
    "...     return anim\n",
    "...\n",
    ">>> #Functions for 2D animations\n",
    "... def init_without_wall():\n",
    "...     \"initializes the animation with a clean slate\"\n",
    "...     cont = ax.contourf(X_wall, Y_wall, Z, cmap=cm.bone)\n",
    "...     cbar = plt.colorbar(cont)\n",
    "...     return cont\n",
    "...\n",
    "...\n",
    ">>> def animate_without_wall(t):\n",
    "...     \"sets the frames for the animation with no wall\"\n",
    "...     Z = Z_wall[:, :, t]\n",
    "...     cont = ax.contourf(X_wall, Y_wall, Z, cmap=cm.bone)\n",
    "...     return cont\n",
    "...\n",
    "...\n",
    ">>> def animation_2d_no_wall():\n",
    "...     \"calls the animation function in 2d for no wall\"\n",
    "...     anim2D = matplotlib.animation.FuncAnimation(fig, animate_without_wall, frames=animation_frames,\n",
    "...              save_count=anim_count, interval=1, repeat=False,  init_func=init_without_wall,)\n",
    "...     return anim2D\n",
    "...\n",
    "...\n",
    ">>> def init_2d():\n",
    "...     \"initializes the 2d plot for the whole domain with a clean slate\"\n",
    "...     cont = ax.contourf(X, Y, Z, cmap=cm.bone)\n",
    "...     V_x = ax.contour(xx, xx, V)\n",
    "...     cbar = plt.colorbar(cont)\n",
    "...     return cont, V_x,\n",
    "...\n",
    "...\n",
    ">>> def animate_2d(t):\n",
    "...     \"sets the frames for the animation in 2d with the whole domain\"\n",
    "...     Z = z[:, :, t]\n",
    "...     cont = ax.contourf(X, Y, Z, cmap=cm.bone)\n",
    "...     V_x = ax.contour(xx, xx, V)\n",
    "...     return cont, V_x\n",
    "...\n",
    "...\n",
    ">>> def animation_2d():\n",
    "...     \"calls the animation function in 2d for the whole domain\"\n",
    "...     anim2D = matplotlib.animation.FuncAnimation(fig, animate_2d, frames=animation_frames, save_count=anim_count,\n",
    "...             interval=1, repeat=False,  init_func=init_2d,)\n",
    "...     return anim2D\n",
    "...\n",
    ">>> def save_anim(file, title):\n",
    "...     \"saves the animation with a desired title\"\n",
    "...     Writer = animation.writers['ffmpeg']\n",
    "...     writer = Writer(fps=25, metadata=dict(artist='Me'), bitrate=1800)\n",
    "...     file.save(title + '.mp4', writer=writer)"
   ]
  },
  {
   "cell_type": "markdown",
   "metadata": {},
   "source": [
    "# Crank-Nicholson for square well\n",
    "\n",
    "A stationary Gaussian Wave packet is initialized in an \"infinite\" potential well. The time evolution of the wave equation is calculated through the SchrÃƒÂ¶dinger equation. This is approximated using the Crank-Nicholson method and with Dirichlet boundary conditions; the begin and the end of the domain is put to zero. The equation that is solved with the Crank-Nicholson method is the following\n",
    "\n",
    "$$ i \\hbar \\frac{\\psi(t+h) - \\psi(t)}{h} = \\frac{ \\hat{H} \\psi(t) + \\hat{H} \\psi(t+h)}{2}$$,\n",
    "\n",
    "where h is the size of the time step, and where $\\hat{H}$ is defined as\n",
    "\n",
    "$$ \\hat{H} = \\frac{\\hat{p}^2}{2m} + \\hat{V}$$.\n",
    "\n",
    "The momentum operator can be discretized in a grid with Dirichlet boundary conditions, and with equal spacing $a$, the matrix of the Hamiltonian is:\n",
    "\n",
    "$$ \\hat{H} = \\begin{bmatrix}\n",
    "1/a^2 + V_0 & -1/2a^2 & 0 & \\ldots  & \\ldots &  0 \\\\\n",
    "-1/2a^2 & 1/a^2 + V_1 & -1/2a^2 & 0 & \\ldots & 0  \\\\\n",
    "0 & \\ddots & \\ddots & \\ddots & \\ldots & 0 \\\\\n",
    "0 & \\ldots &  0 & -1/2a^2  & 1/a^2 + V_{n-1} & -1/2a^2 & \\\\\n",
    "0 & 0 & \\ldots & 0 & -1/2a^2&  1/a^2 + V_n \\\\\n",
    "\\end{bmatrix}\n",
    "$$,\n",
    "\n",
    "where $V_i$ is the potential at point $i$.\n",
    "\n",
    "The system that is being solved is then expressed as\n",
    "\n",
    "$$ \\left( \\frac{i \\hbar}{h} - \\frac{\\hat{H}}{2}\\right) \\psi(t + h) = \\left( \\frac{i \\hbar}{h} + \\frac{\\hat{H}}{2} \\right) \\psi(t)$$,\n",
    "\n",
    "where $\\psi(t+h)$ is the desired quantity, and the rest is known. This expression can be simplified to a linear equation as $A \\mathbf{x} = \\mathbf{b}$, where $A = \\left( \\frac{i \\hbar}{h} - \\frac{\\hat{H}}{2}\\right) $, $\\mathbf{x}$ the desired quantity $\\psi(t+h)$ and $\\mathbf{b} = \\left( \\frac{i \\hbar}{h} + \\frac{\\hat{H}}{2}\\right) \\psi(t)$.\n",
    "\n",
    "Because the coefficient matrix $A$ has an imaginary diagonal, this is not a Hermitian matrix. An algorithm designed for solving such a system can used, two of which are the Bi-Conjugate Gradient Stabalized (BiCGStab) algorithm and the Complex Orthogonal Conjugate Gradient (COCG) algorithm.\n",
    "\n",
    "In this code, the BiCGStab algorithm has been implemented due to it being readily available in the SciPy package."
   ]
  },
  {
   "cell_type": "code",
   "execution_count": null,
   "metadata": {
    "collapsed": true
   },
   "outputs": [],
   "source": [
    ">>> # Set parameters\n",
    "... h = 1e-5  # timestep size\n",
    ">>> xmin = 0\n",
    ">>> xmax = 1\n",
    ">>> nodes = 2**8\n",
    "...\n",
    ">>> a = (xmax - xmin) / (nodes-1)  # space between nodes\n",
    ">>> x = np.linspace(xmin, xmax, nodes)\n",
    ">>> timesteps = 20000\n",
    "...\n",
    ">>> # initial wave function\n",
    "... psi = np.zeros(shape=(nodes, timesteps+1), dtype=np.cfloat)\n",
    ">>> width = 0.01\n",
    ">>> p0 = 0  # standing still\n",
    ">>> E0 = p0**2 / 2\n",
    ">>> psi[:, 0] = np.exp(-((x-0.45)**2 / (2*width**2))) * np.exp(1j*x*p0)\n",
    ">>> psi[:, 0] = psi[:, 0] / np.linalg.norm(psi[:, 0])\n",
    "...\n",
    ">>> # Make square well\n",
    "... V0 = 1e6  # High number for \"infinite\" sq well\n",
    ">>> V = np.zeros(nodes)\n",
    ">>> for xx in range(nodes):\n",
    "...     V[xx] =  -V0 * (Heaviside(0.35/a - xx) - Heaviside(0.55/a - xx))\n",
    "...\n",
    ">>> # Make left hand side matrix\n",
    "... A = sp.diags([1 / (4*a**2), 1j/h - 1/(2*a**2), 1 / (4*a**2)], [-1, 0 ,1],shape=(nodes, nodes)).tolil()\n",
    ">>> A -= 0.5 * sp.diags(V, 0)\n",
    ">>> A = A.tocsc()\n",
    "...\n",
    "...\n",
    ">>> # Make right hand side vector\n",
    "... B = sp.diags([-1 / (4*a**2), 1j/h + 1/(2*a**2), -1 / (4*a**2)], [-1, 0, 1],shape=(nodes, nodes)).tolil()\n",
    ">>> B += 0.5*sp.diags(V, 0)\n",
    ">>> B = B.tocsc()\n",
    "...\n",
    ">>> anim_constant = 10\n",
    ">>> anim_count = 0\n",
    ">>> animation_frames = int((timesteps+1)/anim_constant)\n",
    "...\n",
    ">>> psi_animate = np.zeros(shape=(nodes, animation_frames), dtype=np.cfloat)\n",
    ">>> for t in range(timesteps):\n",
    "...     b = B.dot(psi[:, t])\n",
    "...     psi[:, t+1] = linalg.bicgstab(A, b)[0]\n",
    "...     psi[:, t+1] = psi[:, t+1] / np.linalg.norm(psi[:, t+1])\n",
    "...     if (t+1) % anim_constant == 0:\n",
    "...         psi_animate[:, anim_count] = psi[:, t+1]\n",
    "...         anim_count += 1"
   ]
  },
  {
   "cell_type": "code",
   "execution_count": null,
   "metadata": {
    "collapsed": true
   },
   "outputs": [],
   "source": [
    ">>> # Show animations\n",
    "... fig = plt.figure()\n",
    ">>> ax = plt.axes(xlim=(0, 1), ylim=(0, 1))\n",
    ">>> line, = ax.plot([], [], lw=2)\n",
    ">>> V_x, = ax.plot([],[], lw=2)\n",
    "...\n",
    ">>> # call the animator.\n",
    "... anim_sq_well = animation_1D()\n",
    "...\n",
    ">>> plt.show()"
   ]
  },
  {
   "cell_type": "code",
   "execution_count": null,
   "metadata": {
    "collapsed": true
   },
   "outputs": [],
   "source": [
    ">>> save_anim(anim_sq_well,'square_well_20k')"
   ]
  },
  {
   "cell_type": "markdown",
   "metadata": {},
   "source": [
    "# Crank-Nicholson for tunneling\n",
    "\n",
    "The SchrÃ¶dinger equation can also be solved for a scenario in which a Gaussian wave packet is traveling towards a potential barrier and even peforms tunneling behaviour. The height of the potential is determined as a function of the energy of the kinetic energy of the particle $V_0 = E_0/c_{\\text{pot.}}$ [1], where $V_0$ is the height of the potential and $E_0$ is the kinetic energy of the particle. The arbitrary constant $c_{\\text{pot.}}$ determines the height of the potential barrier as a ratio of the kinetic energy. The transmission probability is nearly 1 for high values of the constant and for low values the transmission will be negligible. The width of the barrier $d$ is given by $d =7\\hbar/\\sqrt{2mV_0}$ where $m$ is the mass of the particle [1].\n",
    "\n",
    "# References:\n",
    "\n",
    "[1] B. Simons. $\\textit{Lecture notes from the course Advanced Quantum Mechanics}$, University of Cambridge. 2009. [Accessed online on 24-4-2016 at http://www.tcm.phy.cam.ac.uk/~bds10/aqp/handout_1d.pdf]"
   ]
  },
  {
   "cell_type": "code",
   "execution_count": null,
   "metadata": {
    "collapsed": true
   },
   "outputs": [],
   "source": [
    ">>> # Set up parameters\n",
    "... h = 1e-5\n",
    ">>> nodes = 2000\n",
    ">>> xmin = 0\n",
    ">>> xmax = 1\n",
    ">>> a = (xmax - xmin) / (nodes-1)\n",
    ">>> x = np.linspace(xmin, xmax, nodes)\n",
    ">>> timesteps = 450\n",
    "...\n",
    ">>> # Set up wave funciton\n",
    "... psi = np.zeros(shape=(nodes, timesteps+1), dtype=np.cfloat)\n",
    ">>> width = 0.05\n",
    ">>> p0 = 100\n",
    ">>> E0 = p0**2/2\n",
    ">>> psi[:, 0] = np.exp(-((x - 0.3)**2 / (2*width**2))) * np.exp(1j*x*p0)\n",
    ">>> psi[:, 0] = psi[:, 0] / np.linalg.norm(psi[:, 0])\n",
    "...\n",
    ">>> V = np.zeros(nodes)\n",
    ">>> V0 = E0 / 0.6\n",
    ">>> for xx in range(nodes):\n",
    "...     V[xx] =  - V0 * (Heaviside(int(nodes/2) - xx) - Heaviside(int(nodes/2) + np.int(7/(a*np.sqrt(2*V0))) - xx))\n",
    "...\n",
    ">>> # Create left hand side matrix\n",
    "... A = sp.diags([1 / (4*a**2), 1j/h - 1/(2*a**2), 1 / (4*a**2)], [-1, 0 ,1],shape=(nodes, nodes)).tolil()\n",
    ">>> A -= 0.5 * sp.diags(V, 0)\n",
    ">>> A = A.tocsc()\n",
    "...\n",
    ">>> # Create right hand side matrix\n",
    "... B = sp.diags([-1 / (4*a**2), 1j/h + 1/(2*a**2), -1 / (4*a**2)], [-1, 0, 1], shape=(nodes, nodes)).tolil()\n",
    ">>> B += 0.5 * sp.diags(V, 0)\n",
    ">>> B = B.tocsc()\n",
    "...\n",
    ">>> anim_constant = 2\n",
    ">>> anim_count = 0\n",
    ">>> animation_frames = int((timesteps+1)/anim_constant)\n",
    "...\n",
    ">>> psi_animate = np.zeros(shape=(nodes,animation_frames), dtype=np.cfloat)\n",
    ">>> for t in range(timesteps):\n",
    "...     b = B.dot(psi[:, t])\n",
    "...     psi[:, t+1] = linalg.bicgstab(A, b)[0]\n",
    "...     psi[:, t+1] = psi[:, t+1] / np.linalg.norm(psi[:, t+1])\n",
    "...     if (t+1) % anim_constant == 0:\n",
    "...         psi_animate[:, anim_count] = psi[:, t+1]\n",
    "...         anim_count += 1"
   ]
  },
  {
   "cell_type": "code",
   "execution_count": null,
   "metadata": {
    "collapsed": true
   },
   "outputs": [],
   "source": [
    ">>> # Show an animation\n",
    "... fig = plt.figure()\n",
    ">>> ax = plt.axes(xlim=(0, 1), ylim=(0, 1))\n",
    ">>> line, = ax.plot([], [], lw=2)\n",
    ">>> V_x, = ax.plot([],[], lw=2)\n",
    "...\n",
    ">>> animtunnel = animation_1D()\n",
    ">>> plt.show()"
   ]
  },
  {
   "cell_type": "code",
   "execution_count": null,
   "metadata": {
    "collapsed": true
   },
   "outputs": [],
   "source": [
    ">>> save_anim(animtunnel,'1d_tunnel')"
   ]
  },
  {
   "cell_type": "markdown",
   "metadata": {},
   "source": [
    "# Calculation of the transmission coefficient\n",
    "\n",
    "The transmission coefficient T is calculated by taking the squared norm of the wave function in the region on the right of the potential barrier when a wave has tunneled and dividing it by the squared norm of the incoming wave. The incoming wave will have a squared norm of one because it is a normalized wave function. This calculation of T is done for a number of heights of the potential barrier by varying the ratio $E/V_0$."
   ]
  },
  {
   "cell_type": "code",
   "execution_count": null,
   "metadata": {
    "collapsed": true
   },
   "outputs": [],
   "source": [
    ">>> # Set parameters\n",
    "... h = 1e-5  # timestep size\n",
    ">>> xmin = 3\n",
    ">>> xmax = 7\n",
    ">>> nodes = 10000\n",
    "...\n",
    ">>> a = (xmax - xmin) / (nodes-1)  # space between nodes\n",
    ">>> x = np.linspace(xmin, xmax, nodes)\n",
    ">>> timesteps = 500\n",
    "...\n",
    ">>> # initial wave function\n",
    "... psi = np.zeros(shape = (nodes, timesteps+1), dtype= np.cfloat)\n",
    ">>> width = 0.1\n",
    ">>> p0 = 300\n",
    ">>> psi[:, 0] = np.exp(-((x-4.5)**2 / (2*width**2)))*np.exp(1j*x*p0)\n",
    ">>> psi[:, 0] = psi[:, 0] / np.linalg.norm(psi[:, 0])\n",
    "...\n",
    ">>> # Set up potential wall with the height of E0 divided by a factor\n",
    "... E0 = p0**2 / 2\n",
    ">>> parameters = np.linspace(0.1,4.1,101)\n",
    ">>> T = np.zeros((len(parameters), 1))\n",
    "...\n",
    ">>> for m in range(len(parameters)):\n",
    "...     V = np.zeros(nodes)\n",
    "...     V0 = E0 / parameters[m]\n",
    "...     for xx in range(nodes):\n",
    "...         V[xx] =  - V0 * (Heaviside(int(nodes/2) - xx) - Heaviside(int(nodes/2) + np.int(7/(a*np.sqrt(2*V0))) - xx))\n",
    "...\n",
    "...     # Create matrix A\n",
    "...     A = sp.diags([1 / (4*a**2), 1j/h - 1/(2*a**2), 1 / (4*a**2)], [-1, 0 ,1], shape=(nodes, nodes)).tolil()\n",
    "...     A -= 0.5 * sp.diags(V, 0)\n",
    "...     A = A.tocsc()\n",
    "...\n",
    "...     # Create matrix B\n",
    "...     B = sp.diags([-1 / (4*a**2), 1j/h + 1/(2*a**2), -1 / (4*a**2)], [-1, 0, 1], shape=(nodes, nodes)).tolil()\n",
    "...     B += 0.5*sp.diags(V, 0)\n",
    "...     B = B.tocsc()\n",
    "...\n",
    "...     anim_constant = 1\n",
    "...     animation_frames = int((timesteps+1)/anim_constant)\n",
    "...     anim_count = 0\n",
    "...\n",
    "...     for t in range(timesteps):\n",
    "...         b = B.dot(psi[:, t])\n",
    "...         psi[:, t+1] = linalg.bicgstab(A, b)[0]\n",
    "...         psi[:, t+1] = psi[:, t+1] / np.linalg.norm(psi[:, t+1])\n",
    "...         anim_count += 1\n",
    "...\n",
    "...     #calculate the ratio between the transmitted wave and original wave (psi was normalized)\n",
    "...     T[m] = np.linalg.norm(psi[int(0.5*nodes):, timesteps])**2"
   ]
  },
  {
   "cell_type": "code",
   "execution_count": null,
   "metadata": {
    "collapsed": true
   },
   "outputs": [],
   "source": [
    ">>> #Plot the transmission coefficient\n",
    "... fig = plt.figure(figsize=(6, 3.7))\n",
    ">>> plt.plot(parameters, T, 'or-', markersize = 3, label = r'$T$')\n",
    ">>> plt.xlabel(r'$ E / V_0$', fontsize = 9)\n",
    ">>> plt.ylabel(r'Transmission Coefficient')\n",
    ">>> plt.show()"
   ]
  },
  {
   "cell_type": "code",
   "execution_count": null,
   "metadata": {
    "collapsed": true
   },
   "outputs": [],
   "source": [
    ">>> fig.savefig('Transmission_coefficient.pdf', bbox_inches='tight', pad_inches=0.1)"
   ]
  },
  {
   "cell_type": "code",
   "execution_count": null,
   "metadata": {
    "collapsed": true
   },
   "outputs": [],
   "source": [
    ">>> #animate wave through a potential barrier\n",
    "... psi_animate = psi\n",
    ">>> fig = plt.figure()\n",
    ">>> ax = plt.axes(xlim=(3, 7), ylim=(0, 1))\n",
    ">>> line, = ax.plot([], [], lw=2)\n",
    ">>> V_x, = ax.plot([], [], lw=2)\n",
    "...\n",
    ">>> animtunnel = animation_1D()\n",
    ">>> plt.show()"
   ]
  },
  {
   "cell_type": "code",
   "execution_count": null,
   "metadata": {
    "collapsed": true
   },
   "outputs": [],
   "source": [
    ">>> save_anim(animtunnel,'tunneling_closeup_500t_300p')"
   ]
  },
  {
   "cell_type": "markdown",
   "metadata": {},
   "source": [
    "# Crank-Nicholson in two dimensions\n",
    "\n",
    "The 2D method of Crank-Nicholson makes use of a lexicographic ordering of nodes (image taken from [2]),\n",
    "<img src=\"lexicograph.png\",width=200,height=200>.\n",
    "\n",
    "This results in the solution vector $u \\in \\mathbb{R}^{nodes^2}$ and the Coefficient matrix $A \\in \\mathbb{R}^{(nodes^2)~ \\times~ (nodes^2)}$.\n",
    "\n",
    "For this two dimensional problem, the boundary conditions are taken to be Dirichlet boundary conditions, with the forcing term equal to 0 for simplicity. If this is done, the coefficient matrix can be expressed as [2]:\n",
    "\n",
    "$$\\hat{H}_{2D} = \\hat{H}_{1D} \\otimes \\mathbb{1} + \\mathbb{1} \\otimes \\hat{H}_{1D}$$,\n",
    "\n",
    "where $H_{1D}$ is the Hamiltonian matrix for the 1D case without the potential, and $\\mathbb{1}$ is the identity matrix with the same size as $H_{1D}$. The potential is removed due to the fact that it is a 2D potential that can not be expressed in a 1D case. The potential diagonal is added after the 2D kinetic energy matrix is generated.\n",
    "\n",
    "The system that is being solved can therefore be expressed as\n",
    "\n",
    "$$ \\left( \\frac{i \\hbar}{h} - \\frac{\\hat{H}_{2D}}{2} - \\frac{\\hat{V}}{2} \\right) \\psi(t + h) = \\left( \\frac{i \\hbar}{h} + \\frac{\\hat{H}_{2D}}{2} + \\frac{\\hat{V}}{2} \\right) \\psi(t)$$,\n",
    "\n",
    "where $\\psi(t+h)$ is the desired quantity, and the rest is known. This expression can be simplified to a linear equation as $A \\mathbf{x} = \\mathbf{b}$, where $A = \\left( \\frac{i \\hbar}{h} - \\frac{\\hat{H}_{2D}}{2} - \\frac{\\hat{V}}{2} \\right) $, $\\mathbf{x}$ the desired quantity $\\psi(t+h)$ and $\\mathbf{b} = \\left( \\frac{i \\hbar}{h} + \\frac{\\hat{H}_{2D}}{2} + \\frac{\\hat{V}}{2} \\right) \\psi(t)$.\n",
    "\n",
    "This system is again solved with a BiCGStab algorithm.\n",
    "\n",
    "$\\large \\bf{References}$\n",
    "\n",
    "[1] C. Vuik and D.J.P. Lahaye. $\\textit{Lecture notes in Scientific Computing}$. Delft University of Technology. Sept. 2015.\n",
    "\n",
    "# Double slit experiment in two dimensions"
   ]
  },
  {
   "cell_type": "code",
   "execution_count": null,
   "metadata": {
    "collapsed": true
   },
   "outputs": [],
   "source": [
    ">>> # Set up parameters\n",
    "... h = 1e-5\n",
    ">>> nodes = 2**7\n",
    ">>> xmin = 0\n",
    ">>> xmax = 1\n",
    ">>> a = (xmax - xmin) / (nodes-1)\n",
    ">>> x = np.linspace(xmin, xmax, nodes)\n",
    ">>> timesteps = 5000\n",
    ">>> wall = int(2*nodes / 3)\n",
    ">>> middle = int(nodes / 2)\n",
    "...\n",
    ">>> #Make initial wave function using x-lexicographic ordering of gridpoints, by first making a 1d gaussian\n",
    "... #and then stacking it vertically\n",
    "... psi = np.zeros(shape = (len(x), ), dtype= np.cfloat)\n",
    ">>> width = 0.03\n",
    ">>> p0 = 500\n",
    ">>> E0 = p0**2 / 2\n",
    ">>> wave_position = np.arange(0, wall*a - 3*width, 3*width)\n",
    ">>> for i in range(len(wave_position)):\n",
    "...     psi += np.exp(-((x-wave_position[i])**2 / (2*width**2))) * np.exp(1j*x*p0)\n",
    "...\n",
    ">>> psi = psi / np.linalg.norm(psi)\n",
    ">>> psi2 = np.tile(psi, (nodes, 1)) # Make a 2d vector by stacking Gaussians\n",
    ">>> psi2_plot = np.zeros((nodes, nodes, timesteps+1), dtype=np.cfloat)\n",
    ">>> psi2_plot[:, :, 0] = psi2\n",
    ">>> psi2 = psi2.reshape(-1)  # Make into 1d vector\n",
    "...\n",
    ">>> # Make potential barrier\n",
    "... V = np.zeros((nodes, nodes))\n",
    ">>> V0 = 1e6\n",
    ">>> aa = 5 #width of barrier between the holes in nodes\n",
    ">>> bb = 10 #width of the holes in nodes\n",
    ">>> for xx in range(nodes):\n",
    "...     V[xx,wall] = V0 * (math.ceil((Heaviside(xx) - Heaviside(xx - (middle - bb - 0.5*aa))) + (Heaviside(xx - (middle - 0.5*aa)) \\\n",
    "...                       - Heaviside(xx - (middle + 0.5*aa))) + Heaviside(xx - (middle + 0.5*aa + bb))))\n",
    "...\n",
    ">>> # Make left hand side vector by expanding the 1D case (using zero-valued Dirichlet boundary conditions)\n",
    "... A1D = sp.diags([1 / (4*a**2), 1j/h - 1/(2*a**2), 1 / (4*a**2)], [-1, 0 ,1], shape=(nodes, nodes))\n",
    ">>> I = sp.identity(nodes)\n",
    ">>> A2D = sp.kron(A1D, I) + sp.kron(I, A1D)\n",
    ">>> A2D -= 0.5 * sp.diags(V.reshape(-1), 0)\n",
    "...\n",
    ">>> # Make right hand side vector in the same way\n",
    "... B1D = sp.diags([-1 / (4*a**2), 1j/h + 1/(2*a**2), -1 / (4*a**2)], [-1, 0, 1], shape = (nodes, nodes))\n",
    ">>> B2D = sp.kron(B1D, I) + sp.kron(I, B1D)\n",
    ">>> B2D += 0.5 * sp.diags(V.reshape(-1), 0)\n",
    "...\n",
    ">>> # Using a bicgstab algorithm, solve A*psi(n+1) = B*psi(n) for psi(n+1)\n",
    "...\n",
    "... anim_constant = 10\n",
    ">>> anim_count = 0\n",
    ">>> animation_frames = int((timesteps+1)/anim_constant)\n",
    ">>> psi2_animate  = np.zeros((nodes, nodes, animation_frames), dtype=np.cfloat)\n",
    "...\n",
    ">>> psi2_old = psi2\n",
    ">>> psi2_new = psi2\n",
    "...\n",
    ">>> for t in range(timesteps):\n",
    "...     b = B2D.dot(psi2_old)\n",
    "...     psi2_new = linalg.bicgstab(A2D, b)[0]\n",
    "...     psi2_new = psi2_new / np.linalg.norm(psi2_new)\n",
    "...     psi2_old = psi2_new\n",
    "...     psi2_plot[:, :, t+1] = psi2_new.reshape(nodes, -1) #reshape for plotting\n",
    "...     if (t+1) % anim_constant == 0:\n",
    "...         psi2_animate[:, :, anim_count] = psi2_plot[:, :, t+1]\n",
    "...         anim_count += 1"
   ]
  },
  {
   "cell_type": "code",
   "execution_count": null,
   "metadata": {
    "collapsed": true
   },
   "outputs": [],
   "source": [
    ">>> # Animation of only past the wall\n",
    "... fig, ax = plt.subplots()\n",
    "...\n",
    ">>> xx = range(nodes)\n",
    ">>> X,Y = np.meshgrid(xx, xx)\n",
    ">>> X_wall = X[:, wall:]\n",
    ">>> Y_wall = Y[:, wall:]\n",
    ">>> Z = np.zeros(X_wall.shape)\n",
    ">>> z = np.absolute(psi2_animate)\n",
    ">>> Z_wall = z[:, wall:, :]\n",
    "...\n",
    ">>> interference_no_wall = animation_2d_no_wall()\n",
    ">>> plt.show()"
   ]
  },
  {
   "cell_type": "code",
   "execution_count": null,
   "metadata": {
    "collapsed": true
   },
   "outputs": [],
   "source": [
    ">>> save_anim(interference_no_wall,'interference_no_wall_500p_5000t')"
   ]
  },
  {
   "cell_type": "code",
   "execution_count": null,
   "metadata": {
    "collapsed": true
   },
   "outputs": [],
   "source": [
    ">>> # Animation including everything\n",
    "... fig, ax = plt.subplots()\n",
    "...\n",
    ">>> xx = range(nodes)\n",
    ">>> X,Y = np.meshgrid(xx, xx)\n",
    ">>> Z = np.zeros(X.shape)\n",
    ">>> z = np.absolute(psi2_animate)\n",
    "...\n",
    ">>> interference_with_animation = animation_2d()\n",
    ">>> plt.show()"
   ]
  },
  {
   "cell_type": "code",
   "execution_count": null,
   "metadata": {
    "collapsed": true
   },
   "outputs": [],
   "source": [
    ">>> save_anim(interference_with_animation,'interference_with_wall')"
   ]
  },
  {
   "cell_type": "markdown",
   "metadata": {},
   "source": [
    "# Crank-Nicholson 2D Square well"
   ]
  },
  {
   "cell_type": "code",
   "execution_count": null,
   "metadata": {
    "collapsed": true
   },
   "outputs": [],
   "source": [
    ">>> # Set up parameters\n",
    "... h = 1e-5\n",
    ">>> nodes = 2**7\n",
    ">>> xmin = 0\n",
    ">>> xmax = 1\n",
    ">>> a = (xmax - xmin) / (nodes-1)\n",
    ">>> x = np.linspace(xmin, xmax, nodes)\n",
    ">>> middle = int(nodes / 2)\n",
    ">>> timesteps = 5000\n",
    "...\n",
    ">>> # Make initial wave function using x-lexicographic ordering of gridpoints\n",
    "... psi_sq = np.zeros(shape=(nodes, nodes), dtype=np.cfloat)\n",
    ">>> width = 1\n",
    ">>> for xx in range(nodes):\n",
    "...     for yy in range(nodes):\n",
    "...         psi_sq[xx, yy] = np.exp(-(((xx-middle)**2 + (yy-middle)**2) / (2*width**2)))\n",
    "...\n",
    ">>> psi_sq = psi_sq / np.linalg.norm(psi_sq)\n",
    ">>> psi_sq_plot = np.zeros((nodes, nodes, timesteps+1), dtype=np.cfloat)\n",
    ">>> psi_sq_plot[:, :, 0] = psi_sq\n",
    ">>> psi_sq = psi_sq.reshape(-1)  # Make into 1d vector\n",
    "...\n",
    ">>> # Make Potential barrier\n",
    "... V_sq = np.ones((nodes, nodes))\n",
    ">>> V0 = 1e7\n",
    ">>> aa = 2**7-2 #width of rectengular potential\n",
    ">>> bb = 2**7-2 #height of rectengular potential\n",
    "...\n",
    ">>> V_sq[middle - 0.5*aa:middle + 0.5*aa, middle - 0.5*bb:middle + 0.5*bb] = 0\n",
    ">>> V_sq = V0 * V_sq\n",
    "...\n",
    "...\n",
    ">>> # Make left hand side vector by expanding the 1D case (using zero-valued Dirichlet boundary conditions)\n",
    "... A1D = sp.diags([1 / (4*a**2), 1j/h - 1 / (2*a**2), 1 / (4*a**2)], [-1, 0 ,1], shape=(nodes, nodes))\n",
    ">>> I = sp.identity(nodes)\n",
    ">>> A2D = sp.kron(A1D, I) + sp.kron(I, A1D)\n",
    ">>> A2D -= 0.5 * sp.diags(V_sq.reshape(-1), 0)\n",
    "...\n",
    ">>> # Make right hand side vector in the same way\n",
    "... B1D = sp.diags([-1 / (4*a**2), 1j/h + 1 / (2*a**2), -1 / (4*a**2)], [-1, 0, 1], shape=(nodes, nodes))\n",
    ">>> B2D = sp.kron(B1D, I) + sp.kron(I, B1D)\n",
    ">>> B2D += 0.5 * sp.diags(V_sq.reshape(-1), 0)\n",
    "...\n",
    ">>> # Using a bicgstab algorithm, solve A*psi(n+1) = B*psi(n) for psi(n+1)\n",
    "...\n",
    "... anim_constant = 10\n",
    ">>> anim_count = 0\n",
    ">>> animation_frames = int((timesteps+1)/anim_constant)\n",
    "...\n",
    ">>> psi_sq_old = psi_sq\n",
    ">>> psi_sq_new = psi_sq\n",
    ">>> psi_animate = np.zeros((nodes, nodes, animation_frames), dtype=np.cfloat)\n",
    "...\n",
    ">>> for t in range(timesteps):\n",
    "...     b = B2D.dot(psi_sq_old)\n",
    "...     psi_sq_new = linalg.bicgstab(A2D, b)[0]\n",
    "...     psi_sq_new = psi_sq_new / np.linalg.norm(psi_sq_new)\n",
    "...     psi_sq_old = psi_sq_new\n",
    "...     psi_sq_plot[:, :, t+1] = psi_sq_new.reshape(nodes, -1)  # reshape for plotting\n",
    "...     if (t+1) % anim_constant == 0:\n",
    "...         psi_animate[..., anim_count] = psi_sq_plot[..., t+1]\n",
    "...         anim_count += 1"
   ]
  },
  {
   "cell_type": "code",
   "execution_count": null,
   "metadata": {
    "collapsed": true
   },
   "outputs": [],
   "source": [
    ">>> fig, ax = plt.subplots()\n",
    "...\n",
    ">>> xx = range(nodes)\n",
    ">>> X,Y = np.meshgrid(xx, xx)\n",
    ">>> Z = np.zeros(X.shape)\n",
    ">>> z = np.absolute(psi_animate)\n",
    ">>> V = V_sq\n",
    "...\n",
    ">>> anim_sq_well_2d = animation_2d()\n",
    ">>> plt.show()"
   ]
  },
  {
   "cell_type": "code",
   "execution_count": null,
   "metadata": {
    "collapsed": true
   },
   "outputs": [],
   "source": [
    ">>> save_anim(anim_sq_well_2d, 'Square_well_2d')"
   ]
  }
 ],
 "metadata": {
  "kernelspec": {
   "display_name": "Python 3",
   "language": "python",
   "name": "python3"
  },
  "language_info": {
   "codemirror_mode": {
    "name": "ipython",
    "version": 3
   },
   "file_extension": ".py",
   "mimetype": "text/x-python",
   "name": "python",
   "nbconvert_exporter": "python",
   "pygments_lexer": "ipython3",
   "version": "3.5.1"
  }
 },
 "nbformat": 4,
 "nbformat_minor": 0
}
